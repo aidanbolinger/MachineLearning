{
  "nbformat": 4,
  "nbformat_minor": 0,
  "metadata": {
    "colab": {
      "provenance": [],
      "authorship_tag": "ABX9TyN25giKsAUsJzzWuQqmd38S",
      "include_colab_link": true
    },
    "kernelspec": {
      "name": "python3",
      "display_name": "Python 3"
    },
    "language_info": {
      "name": "python"
    }
  },
  "cells": [
    {
      "cell_type": "markdown",
      "metadata": {
        "id": "view-in-github",
        "colab_type": "text"
      },
      "source": [
        "<a href=\"https://colab.research.google.com/github/aidanbolinger/MachineLearning/blob/main/FinalProject1.ipynb\" target=\"_parent\"><img src=\"https://colab.research.google.com/assets/colab-badge.svg\" alt=\"Open In Colab\"/></a>"
      ]
    },
    {
      "cell_type": "code",
      "source": [
        "!pip install yfinance"
      ],
      "metadata": {
        "colab": {
          "base_uri": "https://localhost:8080/"
        },
        "id": "h4HPXoO0_7iU",
        "outputId": "d238061d-fe19-478c-ed32-f54eb30058f0"
      },
      "execution_count": null,
      "outputs": [
        {
          "output_type": "stream",
          "name": "stdout",
          "text": [
            "Requirement already satisfied: yfinance in /usr/local/lib/python3.11/dist-packages (0.2.56)\n",
            "Requirement already satisfied: pandas>=1.3.0 in /usr/local/lib/python3.11/dist-packages (from yfinance) (2.2.2)\n",
            "Requirement already satisfied: numpy>=1.16.5 in /usr/local/lib/python3.11/dist-packages (from yfinance) (2.0.2)\n",
            "Requirement already satisfied: requests>=2.31 in /usr/local/lib/python3.11/dist-packages (from yfinance) (2.32.3)\n",
            "Requirement already satisfied: multitasking>=0.0.7 in /usr/local/lib/python3.11/dist-packages (from yfinance) (0.0.11)\n",
            "Requirement already satisfied: platformdirs>=2.0.0 in /usr/local/lib/python3.11/dist-packages (from yfinance) (4.3.7)\n",
            "Requirement already satisfied: pytz>=2022.5 in /usr/local/lib/python3.11/dist-packages (from yfinance) (2025.2)\n",
            "Requirement already satisfied: frozendict>=2.3.4 in /usr/local/lib/python3.11/dist-packages (from yfinance) (2.4.6)\n",
            "Requirement already satisfied: peewee>=3.16.2 in /usr/local/lib/python3.11/dist-packages (from yfinance) (3.17.9)\n",
            "Requirement already satisfied: beautifulsoup4>=4.11.1 in /usr/local/lib/python3.11/dist-packages (from yfinance) (4.13.4)\n",
            "Requirement already satisfied: soupsieve>1.2 in /usr/local/lib/python3.11/dist-packages (from beautifulsoup4>=4.11.1->yfinance) (2.7)\n",
            "Requirement already satisfied: typing-extensions>=4.0.0 in /usr/local/lib/python3.11/dist-packages (from beautifulsoup4>=4.11.1->yfinance) (4.13.2)\n",
            "Requirement already satisfied: python-dateutil>=2.8.2 in /usr/local/lib/python3.11/dist-packages (from pandas>=1.3.0->yfinance) (2.9.0.post0)\n",
            "Requirement already satisfied: tzdata>=2022.7 in /usr/local/lib/python3.11/dist-packages (from pandas>=1.3.0->yfinance) (2025.2)\n",
            "Requirement already satisfied: charset-normalizer<4,>=2 in /usr/local/lib/python3.11/dist-packages (from requests>=2.31->yfinance) (3.4.1)\n",
            "Requirement already satisfied: idna<4,>=2.5 in /usr/local/lib/python3.11/dist-packages (from requests>=2.31->yfinance) (3.10)\n",
            "Requirement already satisfied: urllib3<3,>=1.21.1 in /usr/local/lib/python3.11/dist-packages (from requests>=2.31->yfinance) (2.4.0)\n",
            "Requirement already satisfied: certifi>=2017.4.17 in /usr/local/lib/python3.11/dist-packages (from requests>=2.31->yfinance) (2025.1.31)\n",
            "Requirement already satisfied: six>=1.5 in /usr/local/lib/python3.11/dist-packages (from python-dateutil>=2.8.2->pandas>=1.3.0->yfinance) (1.17.0)\n"
          ]
        }
      ]
    },
    {
      "cell_type": "code",
      "execution_count": null,
      "metadata": {
        "colab": {
          "base_uri": "https://localhost:8080/"
        },
        "id": "Yqd6FImf64z-",
        "outputId": "fb13ea2c-2efb-4568-b4c9-fc548e17269c"
      },
      "outputs": [
        {
          "output_type": "stream",
          "name": "stdout",
          "text": [
            "Collecting torch-geometric\n",
            "  Downloading torch_geometric-2.6.1-py3-none-any.whl.metadata (63 kB)\n",
            "\u001b[?25l     \u001b[90m━━━━━━━━━━━━━━━━━━━━━━━━━━━━━━━━━━━━━━━━\u001b[0m \u001b[32m0.0/63.1 kB\u001b[0m \u001b[31m?\u001b[0m eta \u001b[36m-:--:--\u001b[0m\r\u001b[2K     \u001b[91m━━━━━━━━━━━━━━━━━━━━━━━━━━━━━━━━━━━━━━\u001b[0m\u001b[91m╸\u001b[0m\u001b[90m━\u001b[0m \u001b[32m61.4/63.1 kB\u001b[0m \u001b[31m16.1 MB/s\u001b[0m eta \u001b[36m0:00:01\u001b[0m\r\u001b[2K     \u001b[90m━━━━━━━━━━━━━━━━━━━━━━━━━━━━━━━━━━━━━━━━\u001b[0m \u001b[32m63.1/63.1 kB\u001b[0m \u001b[31m1.4 MB/s\u001b[0m eta \u001b[36m0:00:00\u001b[0m\n",
            "\u001b[?25hRequirement already satisfied: aiohttp in /usr/local/lib/python3.11/dist-packages (from torch-geometric) (3.11.15)\n",
            "Requirement already satisfied: fsspec in /usr/local/lib/python3.11/dist-packages (from torch-geometric) (2025.3.2)\n",
            "Requirement already satisfied: jinja2 in /usr/local/lib/python3.11/dist-packages (from torch-geometric) (3.1.6)\n",
            "Requirement already satisfied: numpy in /usr/local/lib/python3.11/dist-packages (from torch-geometric) (2.0.2)\n",
            "Requirement already satisfied: psutil>=5.8.0 in /usr/local/lib/python3.11/dist-packages (from torch-geometric) (5.9.5)\n",
            "Requirement already satisfied: pyparsing in /usr/local/lib/python3.11/dist-packages (from torch-geometric) (3.2.3)\n",
            "Requirement already satisfied: requests in /usr/local/lib/python3.11/dist-packages (from torch-geometric) (2.32.3)\n",
            "Requirement already satisfied: tqdm in /usr/local/lib/python3.11/dist-packages (from torch-geometric) (4.67.1)\n",
            "Requirement already satisfied: aiohappyeyeballs>=2.3.0 in /usr/local/lib/python3.11/dist-packages (from aiohttp->torch-geometric) (2.6.1)\n",
            "Requirement already satisfied: aiosignal>=1.1.2 in /usr/local/lib/python3.11/dist-packages (from aiohttp->torch-geometric) (1.3.2)\n",
            "Requirement already satisfied: attrs>=17.3.0 in /usr/local/lib/python3.11/dist-packages (from aiohttp->torch-geometric) (25.3.0)\n",
            "Requirement already satisfied: frozenlist>=1.1.1 in /usr/local/lib/python3.11/dist-packages (from aiohttp->torch-geometric) (1.6.0)\n",
            "Requirement already satisfied: multidict<7.0,>=4.5 in /usr/local/lib/python3.11/dist-packages (from aiohttp->torch-geometric) (6.4.3)\n",
            "Requirement already satisfied: propcache>=0.2.0 in /usr/local/lib/python3.11/dist-packages (from aiohttp->torch-geometric) (0.3.1)\n",
            "Requirement already satisfied: yarl<2.0,>=1.17.0 in /usr/local/lib/python3.11/dist-packages (from aiohttp->torch-geometric) (1.20.0)\n",
            "Requirement already satisfied: MarkupSafe>=2.0 in /usr/local/lib/python3.11/dist-packages (from jinja2->torch-geometric) (3.0.2)\n",
            "Requirement already satisfied: charset-normalizer<4,>=2 in /usr/local/lib/python3.11/dist-packages (from requests->torch-geometric) (3.4.1)\n",
            "Requirement already satisfied: idna<4,>=2.5 in /usr/local/lib/python3.11/dist-packages (from requests->torch-geometric) (3.10)\n",
            "Requirement already satisfied: urllib3<3,>=1.21.1 in /usr/local/lib/python3.11/dist-packages (from requests->torch-geometric) (2.4.0)\n",
            "Requirement already satisfied: certifi>=2017.4.17 in /usr/local/lib/python3.11/dist-packages (from requests->torch-geometric) (2025.1.31)\n",
            "Downloading torch_geometric-2.6.1-py3-none-any.whl (1.1 MB)\n",
            "\u001b[2K   \u001b[90m━━━━━━━━━━━━━━━━━━━━━━━━━━━━━━━━━━━━━━━━\u001b[0m \u001b[32m1.1/1.1 MB\u001b[0m \u001b[31m13.6 MB/s\u001b[0m eta \u001b[36m0:00:00\u001b[0m\n",
            "\u001b[?25hInstalling collected packages: torch-geometric\n",
            "Successfully installed torch-geometric-2.6.1\n"
          ]
        }
      ],
      "source": [
        "!pip install torch-geometric"
      ]
    },
    {
      "cell_type": "code",
      "source": [
        "import yfinance as yf\n",
        "\n",
        "#Download historical data for Apple\n",
        "data = yf.download(\"AAPL\", start=\"2022-01-01\", end=\"2023-01-01\")\n",
        "\n",
        "#Print first few rows\n",
        "print(data.head())"
      ],
      "metadata": {
        "colab": {
          "base_uri": "https://localhost:8080/"
        },
        "id": "ZkVGb7rSAvw4",
        "outputId": "bc8f53b2-baa5-406c-8e4c-018bf639cf09"
      },
      "execution_count": null,
      "outputs": [
        {
          "output_type": "stream",
          "name": "stderr",
          "text": [
            "\r[*********************100%***********************]  1 of 1 completed"
          ]
        },
        {
          "output_type": "stream",
          "name": "stdout",
          "text": [
            "Price            Close        High         Low        Open     Volume\n",
            "Ticker            AAPL        AAPL        AAPL        AAPL       AAPL\n",
            "Date                                                                 \n",
            "2022-01-03  178.879929  179.734977  174.653889  174.771820  104487900\n",
            "2022-01-04  176.609634  179.793920  176.039607  179.489254   99310400\n",
            "2022-01-05  171.911865  177.071580  171.636682  176.521213   94537600\n",
            "2022-01-06  169.042053  172.285305  168.688244  169.730012   96904000\n",
            "2022-01-07  169.209122  171.145244  168.088727  169.916741   86709100\n"
          ]
        },
        {
          "output_type": "stream",
          "name": "stderr",
          "text": [
            "\n"
          ]
        }
      ]
    },
    {
      "cell_type": "code",
      "source": [
        "import numpy as np\n",
        "from sklearn.linear_model import LinearRegression\n",
        "from sklearn.metrics import mean_squared_error\n",
        "\n",
        "#Download AAPL close prices\n",
        "data_yf = yf.download(\"AAPL\", start=\"2023-01-01\", end=\"2023-12-31\")['Close']\n",
        "data_yf = data_yf.ffill()\n",
        "\n",
        "#Generate features\n",
        "close_prices = data_yf.values\n",
        "features = []\n",
        "targets = []\n",
        "\n",
        "for i in range(10, len(close_prices)-1):\n",
        "  prev_close = close_prices[i].item()\n",
        "  ma5 = float(np.mean([close_prices[i-4:i+1]]))\n",
        "  ma10 = float(np.mean(close_prices[i-9:i+1]))\n",
        "  features.append([prev_close, ma5, ma10])\n",
        "  targets.append(close_prices[i+1].item())\n",
        "\n",
        "#Convert to Numpy arrays\n",
        "X  = np.array(features)\n",
        "y = np.array(targets)\n",
        "\n",
        "#Train/test split\n",
        "split = int(0.8 * len(X))\n",
        "X_train, X_test = X[:split], X[split:]\n",
        "y_train, y_test = y[:split], y[split:]\n",
        "\n",
        "#Train linear regression model\n",
        "model = LinearRegression()\n",
        "model.fit(X_train, y_train)\n",
        "\n",
        "#Make predictions\n",
        "y_pred = model.predict(X_test)\n",
        "\n",
        "#Evaluate model\n",
        "mse = mean_squared_error(y_test, y_pred)\n",
        "print(f\"Baseline Linear Regression MSE: {mse}\")"
      ],
      "metadata": {
        "colab": {
          "base_uri": "https://localhost:8080/"
        },
        "id": "N_kxCbQJGC23",
        "outputId": "58b6a281-2e30-4cf1-f564-83ffe0457c0d"
      },
      "execution_count": null,
      "outputs": [
        {
          "output_type": "stream",
          "name": "stderr",
          "text": [
            "\r[*********************100%***********************]  1 of 1 completed"
          ]
        },
        {
          "output_type": "stream",
          "name": "stdout",
          "text": [
            "Baseline Linear Regression MSE: 3.6450027078363085\n"
          ]
        },
        {
          "output_type": "stream",
          "name": "stderr",
          "text": [
            "\n"
          ]
        }
      ]
    },
    {
      "cell_type": "code",
      "source": [
        "import torch\n",
        "import torch.nn as nn\n",
        "import torch_geometric\n",
        "from torch_geometric.nn import GCNConv\n",
        "from torch_geometric.data import Data\n",
        "import numpy as np\n",
        "\n",
        "#Download AAPL data\n",
        "data_yf = yf.download(\"AAPL\", start=\"2023-01-01\", end=\"2023-12-31\")['Close']\n",
        "\n",
        "#Fill missing data\n",
        "data_yf = data_yf.ffill()\n",
        "\n",
        "#Create features\n",
        "close_prices = data_yf.values\n",
        "num_days = len(close_prices)\n",
        "\n",
        "features = []\n",
        "for i in range(num_days):\n",
        "  prev_close = close_prices[i]\n",
        "  ma5 = np.mean(close_prices[max(0, i-4):i+1])\n",
        "  ma10 = np.mean(close_prices[max(0, i-9):i+1])\n",
        "  features.append([prev_close.item(), ma5.item(), ma10.item()])\n",
        "\n",
        "#Convert to PyTorch tensor\n",
        "features = np.array(features)\n",
        "X = torch.tensor(features, dtype=torch.float) #[num_days, num_features]\n",
        "\n",
        "#Create edges\n",
        "#Connect days to the next day\n",
        "edge_index = []\n",
        "for i in range(num_days-1):\n",
        "  edge_index.append([i, i+1])\n",
        "edge_index = torch.tensor(edge_index, dtype=torch.long).T\n",
        "\n",
        "#Predict next day's price\n",
        "y = torch.tensor(close_prices[1:], dtype=torch.float).unsqueeze(1).squeeze(-1)\n",
        "X=X[:-1] #Drop last feature row\n",
        "\n",
        "#Filter out invalid edges\n",
        "mask = (edge_index[0] < X.shape[0]) & (edge_index[1] < X.shape[0])\n",
        "edge_index = edge_index[:, mask] #Only keep valid edges\n",
        "\n",
        "#Create graph data object\n",
        "data = Data(x=X, edge_index=edge_index, y=y)\n",
        "\n",
        "# Define the GNN model using GCNConv layers\n",
        "class StockGNN(nn.Module):\n",
        "    def __init__(self):\n",
        "        super(StockGNN, self).__init__()\n",
        "        self.conv1 = GCNConv(3, 64)\n",
        "        self.conv2 = GCNConv(64, 32)\n",
        "        self.fc = nn.Linear(32, 1)  # Output is a single stock price prediction\n",
        "\n",
        "    def forward(self, data):\n",
        "        x, edge_index = data.x, data.edge_index\n",
        "        x = self.conv1(x, edge_index)\n",
        "        x = torch.relu(x)\n",
        "        x = self.conv2(x, edge_index)\n",
        "        x = torch.relu(x)\n",
        "        x = self.fc(x)\n",
        "        return x\n",
        "\n",
        "# Initialize model and optimizer\n",
        "model = StockGNN()\n",
        "optimizer = torch.optim.Adam(model.parameters(), lr=0.01)\n",
        "loss_fn = nn.MSELoss() #Mean Squared Error loss\n",
        "\n",
        "# Training loop\n",
        "for epoch in range(100):\n",
        "    model.train()\n",
        "    optimizer.zero_grad()\n",
        "    output = model(data)  # Forward pass\n",
        "    loss = loss_fn(output, data.y)\n",
        "    loss.backward()\n",
        "    optimizer.step()\n",
        "\n",
        "    if epoch % 10 == 0:\n",
        "        print(f\"Epoch {epoch}, Loss: {loss.item()}\")\n",
        "\n",
        "#Test the model and calculate MSE\n",
        "model.eval()\n",
        "with torch.no_grad():\n",
        "  output = model(data)\n",
        "  test_loss = mean_squared_error(data.y.numpy(), output.numpy())\n",
        "  print(f\"MSE: {test_loss}\")\n"
      ],
      "metadata": {
        "colab": {
          "base_uri": "https://localhost:8080/"
        },
        "id": "Sn-ZLGhn8p07",
        "outputId": "63504b3c-3ccf-43cc-aac2-1c89ebccb2b8"
      },
      "execution_count": null,
      "outputs": [
        {
          "output_type": "stream",
          "name": "stderr",
          "text": [
            "\r[*********************100%***********************]  1 of 1 completed\n"
          ]
        },
        {
          "output_type": "stream",
          "name": "stdout",
          "text": [
            "Epoch 0, Loss: 27500.40625\n",
            "Epoch 10, Loss: 1945.3922119140625\n",
            "Epoch 20, Loss: 489.9573059082031\n",
            "Epoch 30, Loss: 18.554386138916016\n",
            "Epoch 40, Loss: 45.010807037353516\n",
            "Epoch 50, Loss: 65.03643798828125\n",
            "Epoch 60, Loss: 33.467220306396484\n",
            "Epoch 70, Loss: 18.138145446777344\n",
            "Epoch 80, Loss: 20.181913375854492\n",
            "Epoch 90, Loss: 18.457653045654297\n",
            "MSE: 18.22766876220703\n"
          ]
        }
      ]
    },
    {
      "cell_type": "code",
      "source": [
        "import torch\n",
        "import torch.nn as nn\n",
        "import torch.optim as optim\n",
        "\n",
        "#Use only the 'Close' column\n",
        "close_prices = data['Close'].values\n",
        "\n",
        "#Normalize prices between -1 and 1\n",
        "min_price = close_prices.min()\n",
        "max_price = close_prices.max()\n",
        "normalized_prices = 2 * (close_prices - min_price) / (max_price - min_price) - 1\n",
        "\n",
        "#Convert to PyTorch tensor\n",
        "real_data = torch.tensor(normalized_prices, dtype=torch.float32).unsqueeze(1)\n",
        "print(real_data[:5])\n",
        "\n",
        "# Define the Generator Network\n",
        "class Generator(nn.Module):\n",
        "    def __init__(self, z_dim, output_dim):\n",
        "        super(Generator, self).__init__()\n",
        "        self.fc = nn.Sequential(\n",
        "            nn.Linear(z_dim, 128),\n",
        "            nn.ReLU(),\n",
        "            nn.Linear(128, 64),\n",
        "            nn.ReLU(),\n",
        "            nn.Linear(64, output_dim),  # Output dimension is stock price prediction\n",
        "            nn.Tanh()  # To normalize output between -1 and 1\n",
        "        )\n",
        "\n",
        "    def forward(self, z):\n",
        "        return self.fc(z)\n",
        "\n",
        "# Define the Discriminator Network\n",
        "class Discriminator(nn.Module):\n",
        "    def __init__(self, input_dim):\n",
        "        super(Discriminator, self).__init__()\n",
        "        self.fc = nn.Sequential(\n",
        "            nn.Linear(input_dim, 64),\n",
        "            nn.LeakyReLU(0.2),\n",
        "            nn.Linear(64, 32),\n",
        "            nn.LeakyReLU(0.2),\n",
        "            nn.Linear(32, 1),\n",
        "            nn.Sigmoid()  # Output a probability (real or fake)\n",
        "        )\n",
        "\n",
        "    def forward(self, x):\n",
        "        return self.fc(x)\n",
        "\n",
        "# Hyperparameters\n",
        "z_dim = 100  # Random noise input for the generator\n",
        "stock_price_dim = 1  # We predict one stock price at a time\n",
        "\n",
        "# Initialize networks\n",
        "generator = Generator(z_dim, stock_price_dim)\n",
        "discriminator = Discriminator(stock_price_dim)\n",
        "\n",
        "# Optimizers\n",
        "lr = 0.0002\n",
        "optimizer_g = optim.Adam(generator.parameters(), lr=lr, betas=(0.5, 0.999))\n",
        "optimizer_d = optim.Adam(discriminator.parameters(), lr=lr, betas=(0.5, 0.999))\n",
        "\n",
        "# Loss function\n",
        "criterion = nn.BCELoss()\n",
        "\n",
        "# Training loop\n",
        "for epoch in range(10000):\n",
        "    # Real stock price data (for illustration, using random data)\n",
        "    indices = torch.randint(0, real_data.size(0), (32,))\n",
        "    batch_real_data = real_data[indices]\n",
        "\n",
        "    # Train Discriminator\n",
        "    optimizer_d.zero_grad()\n",
        "\n",
        "    # Real data\n",
        "    real_label = torch.ones(32)\n",
        "    output_real = discriminator(batch_real_data).squeeze()\n",
        "    loss_real = criterion(output_real, real_label)\n",
        "\n",
        "    # Fake data (generated by the generator)\n",
        "    noise = torch.randn(32, z_dim)\n",
        "    fake_data = generator(noise)\n",
        "    fake_label = torch.zeros(32)\n",
        "    output_fake = discriminator(fake_data).squeeze()\n",
        "    loss_fake = criterion(output_fake, fake_label)\n",
        "\n",
        "    # Total loss for discriminator\n",
        "    loss_d = loss_real + loss_fake\n",
        "    loss_d.backward()\n",
        "    optimizer_d.step()\n",
        "\n",
        "    # Train Generator\n",
        "    optimizer_g.zero_grad()\n",
        "\n",
        "    # Try to fool the discriminator (minimize loss on fake data)\n",
        "    noise = torch.randn(32, z_dim)\n",
        "    fake_data = generator(noise)  # Labels for fake data should be 1 (real)\n",
        "    output_fake = discriminator(fake_data)\n",
        "    fake_label = torch.ones(32, 1)\n",
        "    loss_g = criterion(output_fake, fake_label)\n",
        "\n",
        "    loss_g.backward()\n",
        "    optimizer_g.step()\n",
        "\n",
        "    # Print progress\n",
        "    if epoch % 1000 == 0:\n",
        "        print(f\"Epoch [{epoch}/10000], D Loss: {loss_d.item()}, G Loss: {loss_g.item()}\")\n"
      ],
      "metadata": {
        "colab": {
          "base_uri": "https://localhost:8080/"
        },
        "id": "fsse6EDj85Yq",
        "outputId": "770df21e-895c-42c3-b787-ab1bf2e649db"
      },
      "execution_count": null,
      "outputs": [
        {
          "output_type": "stream",
          "name": "stdout",
          "text": [
            "tensor([[[1.0000]],\n",
            "\n",
            "        [[0.9164]],\n",
            "\n",
            "        [[0.7433]],\n",
            "\n",
            "        [[0.6376]],\n",
            "\n",
            "        [[0.6437]]])\n",
            "Epoch [0/10000], D Loss: 1.3979310989379883, G Loss: 0.6897317171096802\n",
            "Epoch [1000/10000], D Loss: 1.392025351524353, G Loss: 0.6841793656349182\n",
            "Epoch [2000/10000], D Loss: 1.3347010612487793, G Loss: 0.7792994976043701\n",
            "Epoch [3000/10000], D Loss: 1.314685344696045, G Loss: 0.6944489479064941\n",
            "Epoch [4000/10000], D Loss: 1.388582706451416, G Loss: 0.7003824710845947\n",
            "Epoch [5000/10000], D Loss: 1.3884835243225098, G Loss: 0.6905910968780518\n",
            "Epoch [6000/10000], D Loss: 1.3933680057525635, G Loss: 0.697860598564148\n",
            "Epoch [7000/10000], D Loss: 1.3819947242736816, G Loss: 0.702691912651062\n",
            "Epoch [8000/10000], D Loss: 1.3860965967178345, G Loss: 0.6958096623420715\n",
            "Epoch [9000/10000], D Loss: 1.3859188556671143, G Loss: 0.6935076713562012\n"
          ]
        }
      ]
    },
    {
      "cell_type": "code",
      "source": [],
      "metadata": {
        "id": "XG_0quZVDVXA"
      },
      "execution_count": null,
      "outputs": []
    }
  ]
}