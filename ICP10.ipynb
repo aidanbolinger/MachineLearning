{
  "nbformat": 4,
  "nbformat_minor": 0,
  "metadata": {
    "colab": {
      "provenance": [],
      "authorship_tag": "ABX9TyOr3vXZJ32v9DbKZ5ytmPDe",
      "include_colab_link": true
    },
    "kernelspec": {
      "name": "python3",
      "display_name": "Python 3"
    },
    "language_info": {
      "name": "python"
    }
  },
  "cells": [
    {
      "cell_type": "markdown",
      "metadata": {
        "id": "view-in-github",
        "colab_type": "text"
      },
      "source": [
        "<a href=\"https://colab.research.google.com/github/aidanbolinger/MachineLearning/blob/main/ICP10.ipynb\" target=\"_parent\"><img src=\"https://colab.research.google.com/assets/colab-badge.svg\" alt=\"Open In Colab\"/></a>"
      ]
    },
    {
      "cell_type": "code",
      "execution_count": 6,
      "metadata": {
        "colab": {
          "base_uri": "https://localhost:8080/"
        },
        "id": "M4PhaaFhGVIj",
        "outputId": "813a9bff-1d74-4f3c-95e6-a205c62cb6c7"
      },
      "outputs": [
        {
          "output_type": "stream",
          "name": "stdout",
          "text": [
            "Drive already mounted at /content/drive; to attempt to forcibly remount, call drive.mount(\"/content/drive\", force_remount=True).\n",
            "       PCA1      PCA2\n",
            "0 -0.786173 -0.422114\n",
            "1 -0.278329  0.803393\n",
            "2  0.255916  0.630364\n",
            "3  0.277478 -0.873840\n",
            "4 -0.510060  0.341918\n",
            "\n",
            "Silhouette Score (Original Data): 0.4851146741321495\n",
            "Silhouette Score (PCA Reduced Data): 0.5011971052910962\n",
            "\n",
            "Silhouette Score after scaling, PCA, and KMeans: 0.5012\n"
          ]
        }
      ],
      "source": [
        "from sklearn.model_selection import train_test_split\n",
        "import pandas as pd\n",
        "from sklearn.decomposition import PCA\n",
        "from sklearn.preprocessing import StandardScaler\n",
        "from sklearn.cluster import KMeans\n",
        "import matplotlib.pyplot as plt\n",
        "import seaborn as sns\n",
        "import numpy as np\n",
        "from sklearn.metrics import silhouette_score\n",
        "from sklearn.metrics import silhouette_samples\n",
        "from google.colab import drive\n",
        "drive.mount('/content/drive')\n",
        "\n",
        "# Load dataset\n",
        "dataset = pd.read_csv('/content/drive/MyDrive/CC GENERAL.csv')\n",
        "\n",
        "# Select features\n",
        "x = dataset.iloc[:, [1, 2, 3, 4]]  # you picked columns 1-4\n",
        "\n",
        "# Standardize features\n",
        "scaler = StandardScaler()\n",
        "x_scaled = scaler.fit_transform(x)\n",
        "\n",
        "# Apply PCA\n",
        "pca = PCA(n_components=2)\n",
        "x_pca = pca.fit_transform(x_scaled)\n",
        "\n",
        "# Create a DataFrame with PCA components\n",
        "df2 = pd.DataFrame(data=x_pca, columns=['PCA1', 'PCA2'])\n",
        "\n",
        "# No Species column — so just show PCA result\n",
        "print(df2.head())\n",
        "print()\n",
        "#KMeans on original scaled data\n",
        "kmeans_original = KMeans(n_clusters=3, n_init=10, random_state=42)\n",
        "labels_original = kmeans_original.fit_predict(x_scaled)\n",
        "silhouette_original = silhouette_score(x_scaled, labels_original)\n",
        "print(\"Silhouette Score (Original Data):\", silhouette_original)\n",
        "\n",
        "#KMeans on PCA-reduced data\n",
        "kmeans_pca = KMeans(n_clusters=3, n_init=10, random_state=42)\n",
        "labels_pca = kmeans_pca.fit_predict(x_pca)\n",
        "silhouette_pca = silhouette_score(x_pca, labels_pca)\n",
        "print(\"Silhouette Score (PCA Reduced Data):\", silhouette_pca)\n",
        "print()\n",
        "#Silhouette Score improved since silhouette_pca > silhouette_original\n",
        "#Perform Scaling+PCA+K-Means and report performance\n",
        "print(f\"Silhouette Score after scaling, PCA, and KMeans: {silhouette_pca:.4f}\")\n",
        "\n"
      ]
    }
  ]
}