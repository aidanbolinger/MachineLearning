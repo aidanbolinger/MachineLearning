{
  "nbformat": 4,
  "nbformat_minor": 0,
  "metadata": {
    "colab": {
      "provenance": [],
      "include_colab_link": true
    },
    "kernelspec": {
      "name": "python3",
      "display_name": "Python 3"
    },
    "language_info": {
      "name": "python"
    }
  },
  "cells": [
    {
      "cell_type": "markdown",
      "metadata": {
        "id": "view-in-github",
        "colab_type": "text"
      },
      "source": [
        "<a href=\"https://colab.research.google.com/github/aidanbolinger/MachineLearning/blob/main/ML_2.ipynb\" target=\"_parent\"><img src=\"https://colab.research.google.com/assets/colab-badge.svg\" alt=\"Open In Colab\"/></a>"
      ]
    },
    {
      "cell_type": "code",
      "source": [
        "Grid Search\n",
        "Exhaustively searches all possible combinations of hyperparameters specified in a parameter grid.\n",
        "Deterministic: Always finds the same best parameters given the same data and grid.\n",
        "Can be computationally expensive, especially with a large parameter grid or dataset.\n",
        "Best when the search space is relatively small.\n",
        "\n",
        "Random Search\n",
        "Randomly samples hyperparameter combinations from a distribution over possible values.\n",
        "Non-deterministic: Can find different best parameters in different runs.\n",
        "Usually more efficient than grid search, particularly when the search space is large.\n",
        "More likely to find good hyperparameter combinations in less time, especially if some hyperparameters are less important than others."
      ],
      "metadata": {
        "id": "zmqXQCWM-hgE"
      },
      "execution_count": null,
      "outputs": []
    },
    {
      "cell_type": "code",
      "execution_count": 1,
      "metadata": {
        "id": "_n736W3CMyla",
        "colab": {
          "base_uri": "https://localhost:8080/"
        },
        "outputId": "f461d0af-053f-4f66-809b-6d358a6650a6"
      },
      "outputs": [
        {
          "output_type": "stream",
          "name": "stdout",
          "text": [
            "GridSearchCV best parameters: {'n_neighbors': np.int64(14), 'p': 1, 'weights': 'uniform'}\n",
            "GridSearchCV best accuracy: 0.9666666666666666\n",
            "\n",
            "RandomizedSearchCV best parameters: {'weights': 'uniform', 'p': 2, 'n_neighbors': np.int64(3)}\n",
            "RandomizedSearchCV best accuracy: 0.9583333333333334\n",
            "\n",
            "GridSearchCV test accuracy: 1.0\n",
            "RandomizedSearchCV test accuracy: 1.0\n"
          ]
        }
      ],
      "source": [
        "import numpy as np\n",
        "from sklearn.model_selection import RandomizedSearchCV, GridSearchCV\n",
        "from sklearn.neighbors import KNeighborsClassifier\n",
        "from sklearn.datasets import load_iris\n",
        "from sklearn.model_selection import train_test_split\n",
        "\n",
        "# Load the Iris dataset\n",
        "iris = load_iris()\n",
        "X = iris.data\n",
        "y = iris.target\n",
        "\n",
        "# Split data into training and testing sets\n",
        "X_train, X_test, y_train, y_test = train_test_split(X, y, test_size=0.2, random_state=42)\n",
        "\n",
        "# Define the parameter grid for GridSearchCV\n",
        "param_grid = {\n",
        "    'n_neighbors': np.arange(1, 31),  # Test neighbors from 1 to 30\n",
        "    'weights': ['uniform', 'distance'],  # Test different weighting schemes\n",
        "    'p': [1, 2]  # Test Manhattan and Euclidean distances\n",
        "}\n",
        "\n",
        "# Create a KNN classifier\n",
        "knn = KNeighborsClassifier()\n",
        "\n",
        "# Perform GridSearchCV\n",
        "grid_search = GridSearchCV(knn, param_grid, cv=5, scoring='accuracy', n_jobs=-1)  # Use all cores\n",
        "grid_search.fit(X_train, y_train)\n",
        "\n",
        "# Print the best parameters and accuracy for GridSearchCV\n",
        "print(\"GridSearchCV best parameters:\", grid_search.best_params_)\n",
        "print(\"GridSearchCV best accuracy:\", grid_search.best_score_)\n",
        "\n",
        "\n",
        "# Define the parameter distribution for RandomizedSearchCV\n",
        "param_dist = {\n",
        "    'n_neighbors': np.arange(1, 31),\n",
        "    'weights': ['uniform', 'distance'],\n",
        "    'p': [1, 2]\n",
        "}\n",
        "\n",
        "# Perform RandomizedSearchCV\n",
        "random_search = RandomizedSearchCV(knn, param_distributions=param_dist, n_iter=10, cv=5, scoring='accuracy', n_jobs=-1, random_state=42)\n",
        "random_search.fit(X_train, y_train)\n",
        "\n",
        "# Print the best parameters and accuracy for RandomizedSearchCV\n",
        "print(\"\\nRandomizedSearchCV best parameters:\", random_search.best_params_)\n",
        "print(\"RandomizedSearchCV best accuracy:\", random_search.best_score_)\n",
        "\n",
        "# Evaluate the best models on the test set (optional)\n",
        "print(\"\\nGridSearchCV test accuracy:\", grid_search.score(X_test, y_test))\n",
        "print(\"RandomizedSearchCV test accuracy:\", random_search.score(X_test, y_test))\n"
      ]
    },
    {
      "cell_type": "code",
      "source": [
        "from sklearn.tree import DecisionTreeClassifier\n",
        "from sklearn.model_selection import train_test_split\n",
        "from sklearn.metrics import accuracy_score\n",
        "import pandas as pd\n",
        "from google.colab import drive\n",
        "drive.mount('/content/drive')\n",
        "\n",
        "# Load your data (replace 'your_data.csv' with your actual file)\n",
        "try:\n",
        "    data = pd.read_csv('/content/drive/MyDrive/diabetes_012_health_indicators_BRFSS2015.csv')\n",
        "except FileNotFoundError:\n",
        "    print(\"Error: 'your_data.csv' not found. Please upload your data file.\")\n",
        "    data = None\n",
        "\n",
        "if data is not None:\n",
        "    # Assuming your target variable is in a column named 'target'\n",
        "    # and features are in other columns.  Adjust column names as needed.\n",
        "    X = data.drop('Diabetes_012', axis=1)\n",
        "    y = data['Diabetes_012']\n",
        "\n",
        "    # Split data into training and testing sets\n",
        "    X_train, X_test, y_train, y_test = train_test_split(X, y, test_size=0.2, random_state=42)\n",
        "\n",
        "    # Initialize the Decision Tree Classifier\n",
        "    clf = DecisionTreeClassifier(random_state=42)\n",
        "\n",
        "    # Train the classifier\n",
        "    clf.fit(X_train, y_train)\n",
        "\n",
        "    # Make predictions on the test set\n",
        "    y_pred = clf.predict(X_test)\n",
        "\n",
        "    # Evaluate the model\n",
        "    accuracy = accuracy_score(y_test, y_pred)\n",
        "    print(f\"Accuracy: {accuracy}\")\n"
      ],
      "metadata": {
        "id": "dUbEBNfd2Bhc",
        "colab": {
          "base_uri": "https://localhost:8080/"
        },
        "outputId": "3556036a-6064-4f01-cb73-1e08f2b55228"
      },
      "execution_count": 3,
      "outputs": [
        {
          "output_type": "stream",
          "name": "stdout",
          "text": [
            "Drive already mounted at /content/drive; to attempt to forcibly remount, call drive.mount(\"/content/drive\", force_remount=True).\n",
            "Accuracy: 0.7673446862188584\n"
          ]
        }
      ]
    },
    {
      "cell_type": "code",
      "source": [
        "# Define the parameter grid for GridSearchCV with DecisionTreeClassifier\n",
        "param_grid_dt = {\n",
        "    'criterion': ['gini', 'entropy'],\n",
        "    'max_depth': [None, 10, 20, 30],\n",
        "    'min_samples_split': [2, 5, 10],\n",
        "    'min_samples_leaf': [1, 2, 4]\n",
        "}\n",
        "\n",
        "# Create a Decision Tree Classifier\n",
        "dt = DecisionTreeClassifier(random_state=42)\n",
        "\n",
        "# Perform GridSearchCV for Decision Tree\n",
        "grid_search_dt = GridSearchCV(dt, param_grid_dt, cv=5, scoring='accuracy')\n",
        "grid_search_dt.fit(X_train, y_train)\n",
        "\n",
        "# Print the best parameters and accuracy for Decision Tree GridSearchCV\n",
        "print(\"\\nDecision Tree GridSearchCV best parameters:\", grid_search_dt.best_params_)\n",
        "print(\"Decision Tree GridSearchCV best accuracy:\", grid_search_dt.best_score_)\n",
        "\n",
        "# Evaluate the best Decision Tree model on the test set\n",
        "print(\"Decision Tree GridSearchCV test accuracy:\", grid_search_dt.score(X_test, y_test))\n"
      ],
      "metadata": {
        "id": "s1SiGZei2UJh",
        "colab": {
          "base_uri": "https://localhost:8080/"
        },
        "outputId": "f13fbdba-b2fd-496a-d639-78060ce723eb"
      },
      "execution_count": 7,
      "outputs": [
        {
          "output_type": "stream",
          "name": "stdout",
          "text": [
            "\n",
            "Decision Tree GridSearchCV best parameters: {'criterion': 'gini', 'max_depth': None, 'min_samples_leaf': 1, 'min_samples_split': 2}\n",
            "Decision Tree GridSearchCV best accuracy: 0.9818181818181818\n",
            "Decision Tree GridSearchCV test accuracy: 1.0\n"
          ]
        }
      ]
    },
    {
      "cell_type": "code",
      "source": [
        "from sklearn.model_selection import RandomizedSearchCV\n",
        "from sklearn.tree import DecisionTreeClassifier\n",
        "\n",
        "# Define the parameter distribution for RandomizedSearchCV with DecisionTreeClassifier\n",
        "param_dist_dt = {\n",
        "    'criterion': ['gini', 'entropy'],\n",
        "    'max_depth': [None, 10, 20, 30, 50, 100],\n",
        "    'min_samples_split': [2, 5, 10, 20],\n",
        "    'min_samples_leaf': [1, 2, 4, 8],\n",
        "    'max_features': [None, 'sqrt', 'log2']\n",
        "}\n",
        "\n",
        "# Create a Decision Tree Classifier\n",
        "dt = DecisionTreeClassifier(random_state=42)\n",
        "\n",
        "# Perform RandomizedSearchCV for Decision Tree\n",
        "random_search_dt = RandomizedSearchCV(dt, param_distributions=param_dist_dt, n_iter=100, cv=5, scoring='accuracy', n_jobs=-1, random_state=42)\n",
        "random_search_dt.fit(X_train, y_train)\n",
        "\n",
        "# Print the best parameters and accuracy for Decision Tree RandomizedSearchCV\n",
        "print(\"\\nDecision Tree RandomizedSearchCV best parameters:\", random_search_dt.best_params_)\n",
        "print(\"Decision Tree RandomizedSearchCV best accuracy:\", random_search_dt.best_score_)\n",
        "\n",
        "# Evaluate the best Decision Tree model on the test set\n",
        "print(\"Decision Tree RandomizedSearchCV test accuracy:\", random_search_dt.score(X_test, y_test))\n"
      ],
      "metadata": {
        "id": "3UIzM3HXqi8H",
        "colab": {
          "base_uri": "https://localhost:8080/"
        },
        "outputId": "76c18854-fa21-4b1d-e254-ee6010a47b14"
      },
      "execution_count": 8,
      "outputs": [
        {
          "output_type": "stream",
          "name": "stdout",
          "text": [
            "\n",
            "Decision Tree RandomizedSearchCV best parameters: {'min_samples_split': 10, 'min_samples_leaf': 4, 'max_features': 'log2', 'max_depth': 50, 'criterion': 'gini'}\n",
            "Decision Tree RandomizedSearchCV best accuracy: 0.9818181818181818\n",
            "Decision Tree RandomizedSearchCV test accuracy: 1.0\n"
          ]
        }
      ]
    },
    {
      "cell_type": "code",
      "source": [
        "from sklearn import svm\n",
        "import pandas as pd\n",
        "from sklearn.model_selection import train_test_split\n",
        "from sklearn.metrics import accuracy_score\n",
        "from google.colab import drive\n",
        "drive.mount('/content/drive')\n",
        "\n",
        "# Load your data (replace 'your_data.csv' with your actual file)\n",
        "try:\n",
        "    data = pd.read_csv('/content/drive/MyDrive/Data.csv')\n",
        "except FileNotFoundError:\n",
        "    print(\"Error: 'your_data.csv' not found. Please upload your data file.\")\n",
        "    exit() # Exit if the file is not found\n",
        "\n",
        "\n",
        "# Assuming your target variable is in a column named 'target'\n",
        "# and features are in other columns. Adjust column names as needed.\n",
        "X = data.drop('Grade', axis=1)\n",
        "y = data['Grade']\n",
        "\n",
        "# Split data into training and testing sets\n",
        "X_train, X_test, y_train, y_test = train_test_split(X, y, test_size=0.2, random_state=42)\n",
        "\n",
        "# Create an SVM classifier\n",
        "clf = svm.SVC(kernel='linear') # You can change the kernel (e.g., 'rbf', 'poly')\n",
        "\n",
        "# Train the classifier\n",
        "clf.fit(X_train, y_train)\n",
        "\n",
        "# Make predictions on the test set\n",
        "y_pred = clf.predict(X_test)\n",
        "\n",
        "# Evaluate the model\n",
        "accuracy = accuracy_score(y_test, y_pred)\n",
        "print(f\"Accuracy: {accuracy}\")\n"
      ],
      "metadata": {
        "id": "CMUT5WDB9ijY",
        "colab": {
          "base_uri": "https://localhost:8080/"
        },
        "outputId": "891fbca3-706d-4436-822a-f2deff065a59"
      },
      "execution_count": 1,
      "outputs": [
        {
          "output_type": "stream",
          "name": "stdout",
          "text": [
            "Drive already mounted at /content/drive; to attempt to forcibly remount, call drive.mount(\"/content/drive\", force_remount=True).\n",
            "Accuracy: 1.0\n"
          ]
        }
      ]
    },
    {
      "cell_type": "code",
      "source": [
        "from sklearn.pipeline import Pipeline\n",
        "from sklearn.preprocessing import StandardScaler\n",
        "from sklearn.model_selection import train_test_split, GridSearchCV\n",
        "from sklearn import svm\n",
        "from sklearn.metrics import accuracy_score, classification_report\n",
        "from google.colab import drive\n",
        "drive.mount('/content/drive')\n",
        "\n",
        "# Load your data (replace 'your_data.csv' with your actual file)\n",
        "try:\n",
        "    data = pd.read_csv('/content/drive/MyDrive/Data.csv')\n",
        "except FileNotFoundError:\n",
        "    print(\"Error: 'your_data.csv' not found. Please upload your data file.\")\n",
        "    exit()\n",
        "\n",
        "# Assuming your target variable is in a column named 'target'\n",
        "# and features are in other columns. Adjust column names as needed.\n",
        "X = data.drop('Grade', axis=1)\n",
        "y = data['Grade']\n",
        "\n",
        "# Split data into training and testing sets\n",
        "X_train, X_test, y_train, y_test = train_test_split(X, y, test_size=0.2, random_state=42)\n",
        "\n",
        "# Create a pipeline with StandardScaler and SVC\n",
        "pipeline = Pipeline([\n",
        "    ('scaler', StandardScaler()),\n",
        "    ('svm', svm.SVC())\n",
        "])\n",
        "\n",
        "# Define the parameter grid for GridSearchCV\n",
        "param_grid = {\n",
        "    'svm__C': [0.1, 1, 10, 100],\n",
        "    'svm__kernel': ['linear', 'rbf', 'poly'],\n",
        "    'svm__gamma': ['scale', 'auto', 0.01, 0.1, 1]\n",
        "}\n",
        "\n",
        "\n",
        "# Perform GridSearchCV\n",
        "grid_search = GridSearchCV(pipeline, param_grid, cv=5, scoring='accuracy', n_jobs=-1)\n",
        "grid_search.fit(X_train, y_train)\n",
        "\n",
        "# Print the best parameters and accuracy for GridSearchCV\n",
        "print(\"SVM GridSearchCV best parameters:\", grid_search.best_params_)\n",
        "print(\"SVM GridSearchCV best accuracy:\", grid_search.best_score_)\n",
        "\n",
        "# Evaluate the best SVM model on the test set\n",
        "print(\"SVM GridSearchCV test accuracy:\", grid_search.score(X_test, y_test))\n"
      ],
      "metadata": {
        "id": "0FaAAKrC_at7",
        "colab": {
          "base_uri": "https://localhost:8080/"
        },
        "outputId": "2eb429a4-3365-40ce-e872-53bb47f12e3f"
      },
      "execution_count": 5,
      "outputs": [
        {
          "output_type": "stream",
          "name": "stdout",
          "text": [
            "Drive already mounted at /content/drive; to attempt to forcibly remount, call drive.mount(\"/content/drive\", force_remount=True).\n",
            "SVM GridSearchCV best parameters: {'svm__C': 0.1, 'svm__gamma': 'scale', 'svm__kernel': 'linear'}\n",
            "SVM GridSearchCV best accuracy: 0.9818181818181818\n",
            "SVM GridSearchCV test accuracy: 0.8571428571428571\n"
          ]
        }
      ]
    },
    {
      "cell_type": "code",
      "source": [
        "import numpy as np\n",
        "from sklearn.model_selection import RandomizedSearchCV\n",
        "from sklearn.pipeline import Pipeline\n",
        "from sklearn.preprocessing import StandardScaler\n",
        "# Define the parameter distribution for RandomizedSearchCV for SVM\n",
        "param_dist_svm = {\n",
        "    'svm__C': np.logspace(-3, 2, 6),  # Example: 6 values between 0.001 and 100\n",
        "    'svm__kernel': ['linear', 'rbf', 'poly'],\n",
        "    'svm__gamma': ['scale', 'auto'] + list(np.logspace(-3, 1, 5)) # Example: 5 values between 0.001 and 10\n",
        "}\n",
        "\n",
        "# Perform RandomizedSearchCV for SVM\n",
        "random_search_svm = RandomizedSearchCV(pipeline, param_distributions=param_dist_svm, n_iter=10, cv=5, scoring='accuracy', n_jobs=-1, random_state=42)\n",
        "random_search_svm.fit(X_train, y_train)\n",
        "\n",
        "# Print the best parameters and accuracy for SVM RandomizedSearchCV\n",
        "print(\"\\nSVM RandomizedSearchCV best parameters:\", random_search_svm.best_params_)\n",
        "print(\"SVM RandomizedSearchCV best accuracy:\", random_search_svm.best_score_)\n",
        "\n",
        "# Evaluate the best SVM model on the test set\n",
        "print(\"SVM RandomizedSearchCV test accuracy:\", random_search_svm.score(X_test, y_test))\n"
      ],
      "metadata": {
        "id": "T25pCS00AIPv",
        "colab": {
          "base_uri": "https://localhost:8080/"
        },
        "outputId": "c5678125-0717-4e98-99ed-de954b3cf270"
      },
      "execution_count": 6,
      "outputs": [
        {
          "output_type": "stream",
          "name": "stdout",
          "text": [
            "\n",
            "SVM RandomizedSearchCV best parameters: {'svm__kernel': 'rbf', 'svm__gamma': np.float64(0.01), 'svm__C': np.float64(10.0)}\n",
            "SVM RandomizedSearchCV best accuracy: 0.9636363636363636\n",
            "SVM RandomizedSearchCV test accuracy: 0.8571428571428571\n"
          ]
        }
      ]
    }
  ]
}