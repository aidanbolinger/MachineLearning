{
  "nbformat": 4,
  "nbformat_minor": 0,
  "metadata": {
    "colab": {
      "provenance": [],
      "authorship_tag": "ABX9TyN5Y5M5DSnEd8ftKl5j5YY2",
      "include_colab_link": true
    },
    "kernelspec": {
      "name": "python3",
      "display_name": "Python 3"
    },
    "language_info": {
      "name": "python"
    }
  },
  "cells": [
    {
      "cell_type": "markdown",
      "metadata": {
        "id": "view-in-github",
        "colab_type": "text"
      },
      "source": [
        "<a href=\"https://colab.research.google.com/github/aidanbolinger/MachineLearning/blob/main/ProgrammingQuiz.ipynb\" target=\"_parent\"><img src=\"https://colab.research.google.com/assets/colab-badge.svg\" alt=\"Open In Colab\"/></a>"
      ]
    },
    {
      "cell_type": "code",
      "source": [
        "#Question 3: Perform 5-fold cross-validation on a `LogisticRegression`\n",
        "#model using the iris dataset and report the average accuracy.\n",
        "print(\"Question 3:\\n\")\n",
        "from sklearn.datasets import load_iris\n",
        "from sklearn.linear_model import LogisticRegression\n",
        "from sklearn.model_selection import cross_val_score\n",
        "\n",
        "#Load Iris dataset\n",
        "iris = load_iris()\n",
        "X = iris.data\n",
        "y = iris.target\n",
        "\n",
        "#Create a logistic regression model\n",
        "model = LogisticRegression(max_iter=200)\n",
        "\n",
        "#Perform 5-fold cross-validation\n",
        "scores = cross_val_score(model, X, y, cv=5, scoring='accuracy')\n",
        "\n",
        "#Report the average accuracy\n",
        "print(\"Cross-validation scores:\", scores)\n",
        "print(\"Average accuracy:\", scores.mean())"
      ],
      "metadata": {
        "colab": {
          "base_uri": "https://localhost:8080/"
        },
        "id": "ePlJmdlFXE9c",
        "outputId": "85d0cc68-5019-4c6c-ab19-c21af2debe9a"
      },
      "execution_count": 2,
      "outputs": [
        {
          "output_type": "stream",
          "name": "stdout",
          "text": [
            "Cross-validation scores: [0.96666667 1.         0.93333333 0.96666667 1.        ]\n",
            "Average accuracy: 0.9733333333333334\n"
          ]
        }
      ]
    },
    {
      "cell_type": "code",
      "execution_count": 3,
      "metadata": {
        "colab": {
          "base_uri": "https://localhost:8080/"
        },
        "id": "1e-PJZwRWx2f",
        "outputId": "3f675070-6cdc-4d22-c63e-cf7ea9f3dfa7"
      },
      "outputs": [
        {
          "output_type": "stream",
          "name": "stdout",
          "text": [
            "\n",
            "Question 4:\n",
            "\n",
            "Gradient Boosting Classifier accuracy: 0.956140350877193\n",
            "Random Forest Classifier accuracy: 0.9649122807017544\n"
          ]
        }
      ],
      "source": [
        "#Question 4: Train a `GradientBoostingClassifier` on the breast cancer dataset and\n",
        "#compare its accuracy with `RandomForestClassifier`.\n",
        "print(\"\\nQuestion 4:\\n\")\n",
        "from sklearn.datasets import load_breast_cancer\n",
        "from sklearn.ensemble import GradientBoostingClassifier, RandomForestClassifier\n",
        "from sklearn.model_selection import train_test_split\n",
        "from sklearn.metrics import accuracy_score\n",
        "\n",
        "#Load breast cancer dataset\n",
        "data = load_breast_cancer()\n",
        "X = data.data\n",
        "y = data.target\n",
        "\n",
        "#Split dataset into training and test sets\n",
        "X_train, X_test, y_train, y_test = train_test_split(X, y, test_size=0.2, random_state=42)\n",
        "\n",
        "#Create classifiers\n",
        "gb_clf = GradientBoostingClassifier(n_estimators=100, random_state=42)\n",
        "rf_clf = RandomForestClassifier(n_estimators=100, random_state=42)\n",
        "\n",
        "#Train classifiers\n",
        "gb_clf.fit(X_train, y_train)\n",
        "rf_clf.fit(X_train, y_train)\n",
        "\n",
        "#Make predictions\n",
        "gb_pred = gb_clf.predict(X_test)\n",
        "rf_pred = rf_clf.predict(X_test)\n",
        "\n",
        "#Calculate accuracy\n",
        "gb_acc = accuracy_score(y_test, gb_pred)\n",
        "rf_acc = accuracy_score(y_test, rf_pred)\n",
        "\n",
        "#Print results\n",
        "print(\"Gradient Boosting Classifier accuracy:\", gb_acc)\n",
        "print(\"Random Forest Classifier accuracy:\", rf_acc)"
      ]
    },
    {
      "cell_type": "code",
      "source": [
        "#Question 5: Use `VotingClassifier` to combine `LogisticRegression`,\n",
        "#`SVC`, and `KNeighborsClassifier`.\n",
        "print(\"\\nQuestion 5:\\n\")\n",
        "from sklearn.datasets import load_breast_cancer\n",
        "from sklearn.model_selection import train_test_split\n",
        "from sklearn.linear_model import LogisticRegression\n",
        "from sklearn.svm import SVC\n",
        "from sklearn.neighbors import KNeighborsClassifier\n",
        "from sklearn.ensemble import VotingClassifier\n",
        "from sklearn.metrics import accuracy_score\n",
        "from sklearn.preprocessing import StandardScaler\n",
        "from sklearn.pipeline import make_pipeline\n",
        "\n",
        "#Load breast cancer dataset\n",
        "data = load_breast_cancer()\n",
        "X = data.data\n",
        "y = data.target\n",
        "\n",
        "#Split dataset into training and test sets\n",
        "X_train, X_test, y_train, y_test = train_test_split(X, y, test_size=0.2, random_state=42)\n",
        "\n",
        "#Create pipeines with scaling\n",
        "pipe_lr = make_pipeline(StandardScaler(), LogisticRegression(max_iter=10000, random_state=42))\n",
        "pipe_svc = make_pipeline(StandardScaler(), SVC(probability=True, random_state=42))\n",
        "pipe_knn = make_pipeline(StandardScaler(), KNeighborsClassifier())\n",
        "\n",
        "#Create voting classifier\n",
        "voting_clf = VotingClassifier(\n",
        "    estimators=[\n",
        "      ('lr', pipe_lr),\n",
        "      ('svc', pipe_svc),\n",
        "      ('knn', pipe_knn)\n",
        "    ],\n",
        "    voting='soft')\n",
        "\n",
        "#Train classifier\n",
        "voting_clf.fit(X_train, y_train)\n",
        "\n",
        "#Evaluate\n",
        "y_pred = voting_clf.predict(X_test)\n",
        "acc = accuracy_score(y_test, y_pred)\n",
        "\n",
        "#Display results\n",
        "print(\"Voting Classifier accuracy:\", acc)"
      ],
      "metadata": {
        "colab": {
          "base_uri": "https://localhost:8080/"
        },
        "id": "EzNvpE2NZgae",
        "outputId": "0f8c9b26-933d-4b46-8017-61da42cb720b"
      },
      "execution_count": 4,
      "outputs": [
        {
          "output_type": "stream",
          "name": "stdout",
          "text": [
            "\n",
            "Question 5:\n",
            "\n",
            "Voting Classifier accuracy: 0.9649122807017544\n"
          ]
        }
      ]
    },
    {
      "cell_type": "code",
      "source": [
        "#Question 7: Perform hyperparameter\n",
        "#tuning on a `GradientBoostingClassifier` using `GridSearchCV`\n",
        "print(\"\\nQuestion 7:\\n\")\n",
        "from sklearn.datasets import load_breast_cancer\n",
        "from sklearn.model_selection import train_test_split, GridSearchCV\n",
        "from sklearn.ensemble import GradientBoostingClassifier\n",
        "from sklearn.metrics import accuracy_score\n",
        "\n",
        "#Load breast cancer dataset\n",
        "data = load_breast_cancer()\n",
        "X = data.data\n",
        "y = data.target\n",
        "\n",
        "#Split dataset into training and test sets\n",
        "X_train, X_test, y_train, y_test = train_test_split(X, y, test_size=0.2, random_state=42)\n",
        "\n",
        "#Create the search space\n",
        "param_grid = {\n",
        "    'n_estimators': [50, 100],\n",
        "    'learning_rate': [0.1, 0.2],\n",
        "    'max_depth': [3, 4]\n",
        "}\n",
        "\n",
        "#Create classifier\n",
        "clf = GradientBoostingClassifier(random_state=42)\n",
        "\n",
        "#Create GridSearchCV\n",
        "grid_search = GridSearchCV(\n",
        "    estimator = clf,\n",
        "    param_grid = param_grid,\n",
        "    cv=5,\n",
        "    scoring='accuracy',\n",
        "    n_jobs=-1,\n",
        "    )\n",
        "\n",
        "#Fit classifier\n",
        "grid_search.fit(X_train, y_train)\n",
        "\n",
        "#Evaluate\n",
        "best_clf = grid_search.best_estimator_\n",
        "y_pred = best_clf.predict(X_test)\n",
        "acc = accuracy_score(y_test, y_pred)\n",
        "\n",
        "#Display results\n",
        "print(\"Best parameters:\", grid_search.best_params_)\n",
        "print(\"Best accuracy:\", acc)\n"
      ],
      "metadata": {
        "colab": {
          "base_uri": "https://localhost:8080/"
        },
        "id": "YZPJRmH-b4-8",
        "outputId": "3dbfc38c-1c0e-4bfd-decc-91e164fa3757"
      },
      "execution_count": 12,
      "outputs": [
        {
          "output_type": "stream",
          "name": "stdout",
          "text": [
            "\n",
            "Question 7:\n",
            "\n",
            "Best parameters: {'learning_rate': 0.2, 'max_depth': 3, 'n_estimators': 100}\n",
            "Best accuracy: 0.956140350877193\n"
          ]
        }
      ]
    }
  ]
}