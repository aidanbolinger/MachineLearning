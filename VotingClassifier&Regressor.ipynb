{
  "nbformat": 4,
  "nbformat_minor": 0,
  "metadata": {
    "colab": {
      "provenance": [],
      "include_colab_link": true
    },
    "kernelspec": {
      "name": "python3",
      "display_name": "Python 3"
    },
    "language_info": {
      "name": "python"
    }
  },
  "cells": [
    {
      "cell_type": "markdown",
      "metadata": {
        "id": "view-in-github",
        "colab_type": "text"
      },
      "source": [
        "<a href=\"https://colab.research.google.com/github/aidanbolinger/MachineLearning/blob/main/VotingClassifier%26Regressor.ipynb\" target=\"_parent\"><img src=\"https://colab.research.google.com/assets/colab-badge.svg\" alt=\"Open In Colab\"/></a>"
      ]
    },
    {
      "cell_type": "code",
      "source": [
        "import pandas as pd\n",
        "from sklearn.model_selection import train_test_split\n",
        "from sklearn.ensemble import VotingClassifier\n",
        "from sklearn.linear_model import LogisticRegression\n",
        "from sklearn.tree import DecisionTreeClassifier\n",
        "from sklearn.svm import SVC\n",
        "from sklearn.metrics import accuracy_score\n",
        "from google.colab import drive\n",
        "drive.mount('/content/drive')\n",
        "\n",
        "# Load your CSV data\n",
        "try:\n",
        "    data = pd.read_csv('drive/MyDrive/Iris.csv')  # Replace 'your_file.csv' with your actual file name\n",
        "except FileNotFoundError:\n",
        "    print(\"Error: 'your_file.csv' not found. Please upload the file or provide the correct path.\")\n",
        "    exit()\n",
        "\n",
        "# Assuming your target variable is named 'target' and features are other columns\n",
        "# Adjust 'target' and features if needed based on your data\n",
        "X = data.drop('Species', axis=1)\n",
        "y = data['Species']\n",
        "\n",
        "# Split data into training and testing sets\n",
        "X_train, X_test, y_train, y_test = train_test_split(X, y, test_size=0.2, random_state=42)\n",
        "\n",
        "# Create individual classification models\n",
        "model1 = LogisticRegression()\n",
        "model2 = DecisionTreeClassifier()\n",
        "model3 = SVC(probability=True) # probability=True is required for soft voting\n",
        "\n",
        "# Create a VotingClassifier ensemble: Iris\n",
        "estimators = [('lr', model1), ('dt', model2), ('svc', model3)]\n",
        "ensemble = VotingClassifier(estimators=estimators, voting='soft') # Use 'soft' for probability-based voting\n",
        "\n",
        "# Train the ensemble\n",
        "ensemble.fit(X_train, y_train)\n",
        "\n",
        "# Make predictions on the test set\n",
        "y_pred = ensemble.predict(X_test)\n",
        "\n",
        "# Evaluate the model\n",
        "accuracy = accuracy_score(y_test, y_pred)\n",
        "print(f\"Accuracy: {accuracy}\")\n"
      ],
      "metadata": {
        "id": "pBQAGzPszYRA",
        "colab": {
          "base_uri": "https://localhost:8080/"
        },
        "outputId": "c9f37608-7195-4c6a-cfc1-abf1d1771770"
      },
      "execution_count": null,
      "outputs": [
        {
          "output_type": "stream",
          "name": "stdout",
          "text": [
            "Drive already mounted at /content/drive; to attempt to forcibly remount, call drive.mount(\"/content/drive\", force_remount=True).\n",
            "Accuracy: 1.0\n"
          ]
        },
        {
          "output_type": "stream",
          "name": "stderr",
          "text": [
            "/usr/local/lib/python3.11/dist-packages/sklearn/linear_model/_logistic.py:465: ConvergenceWarning: lbfgs failed to converge (status=1):\n",
            "STOP: TOTAL NO. of ITERATIONS REACHED LIMIT.\n",
            "\n",
            "Increase the number of iterations (max_iter) or scale the data as shown in:\n",
            "    https://scikit-learn.org/stable/modules/preprocessing.html\n",
            "Please also refer to the documentation for alternative solver options:\n",
            "    https://scikit-learn.org/stable/modules/linear_model.html#logistic-regression\n",
            "  n_iter_i = _check_optimize_result(\n"
          ]
        }
      ]
    },
    {
      "cell_type": "code",
      "source": [
        "import pandas as pd\n",
        "from sklearn.model_selection import train_test_split\n",
        "from sklearn.linear_model import LinearRegression\n",
        "from sklearn.ensemble import VotingRegressor\n",
        "from sklearn.metrics import mean_squared_error\n",
        "from sklearn.ensemble import RandomForestRegressor\n",
        "from sklearn.svm import SVR\n",
        "import numpy as np\n",
        "from google.colab import drive\n",
        "drive.mount('/content/drive')\n",
        "\n",
        "# Load your CSV data\n",
        "try:\n",
        "    data = pd.read_csv('drive/MyDrive/Examples/diabetes-dataset.csv')  # Replace 'your_file.csv' with your actual file name\n",
        "except FileNotFoundError:\n",
        "    print(\"Error: 'your_file.csv' not found. Please upload the file or provide the correct path.\")\n",
        "    exit()\n",
        "\n",
        "\n",
        "# Assuming your target variable is named 'target' and features are other columns\n",
        "# Adjust 'target' and features if needed based on your data\n",
        "X = data.drop('Outcome', axis=1)\n",
        "y = data['Outcome']\n",
        "\n",
        "# Split data into training and testing sets\n",
        "X_train, X_test, y_train, y_test = train_test_split(X, y, test_size=0.2, random_state=42)\n",
        "\n",
        "# Create individual regression models\n",
        "model1 = LinearRegression()\n",
        "# Add more models as needed (e.g., RandomForestRegressor, SVR, etc.)\n",
        "model2 = RandomForestRegressor(random_state = 42)\n",
        "model3 = SVR()\n",
        "\n",
        "\n",
        "# Create a VotingRegressor ensemble: credit card\n",
        "estimators = [('lr', model1), ('rf', model2), ('svr', model3)] # Add your other models to this list as ('model_name', model)\n",
        "ensemble = VotingRegressor(estimators=estimators)\n",
        "\n",
        "# Train the ensemble\n",
        "ensemble.fit(X_train, y_train)\n",
        "\n",
        "# Make predictions on the test set\n",
        "y_pred = ensemble.predict(X_test)\n",
        "\n",
        "# Evaluate the model\n",
        "mse = mean_squared_error(y_test, y_pred)\n",
        "print(f\"Mean Squared Error: {mse}\")\n"
      ],
      "metadata": {
        "id": "_IwhdLegzmeC",
        "colab": {
          "base_uri": "https://localhost:8080/"
        },
        "outputId": "170183e9-ae24-42bb-99a4-700479721e6d"
      },
      "execution_count": 1,
      "outputs": [
        {
          "output_type": "stream",
          "name": "stdout",
          "text": [
            "Drive already mounted at /content/drive; to attempt to forcibly remount, call drive.mount(\"/content/drive\", force_remount=True).\n",
            "Mean Squared Error: 0.09143812726694353\n"
          ]
        }
      ]
    }
  ]
}