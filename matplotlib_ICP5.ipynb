{
  "cells": [
    {
      "cell_type": "markdown",
      "metadata": {
        "id": "view-in-github",
        "colab_type": "text"
      },
      "source": [
        "<a href=\"https://colab.research.google.com/github/aidanbolinger/MachineLearning/blob/main/matplotlib_ICP5.ipynb\" target=\"_parent\"><img src=\"https://colab.research.google.com/assets/colab-badge.svg\" alt=\"Open In Colab\"/></a>"
      ]
    },
    {
      "cell_type": "markdown",
      "metadata": {
        "id": "TOtUuFD6kHZG"
      },
      "source": [
        "# Matplotlib Practice\n",
        "\n",
        "This notebook offers a set of exercises to different tasks with Matplotlib.\n",
        "\n",
        "It should be noted there may be more than one different way to answer a question or complete an exercise.\n",
        "\n",
        "Different tasks will be detailed by comments or text.\n",
        "\n",
        "For further reference and resources, it's advised to check out the [Matplotlib documentation](https://matplotlib.org/3.1.1/contents.html).\n",
        "\n",
        "If you're stuck, don't forget, you can always search for a function, for example if you want to create a plot with `plt.subplots()`, search for [`plt.subplots()`](https://www.google.com/search?q=plt.subplots())."
      ]
    },
    {
      "cell_type": "code",
      "execution_count": null,
      "metadata": {
        "id": "UQnT4u-ekHZI"
      },
      "outputs": [],
      "source": [
        "# Import the pyplot module from matplotlib as plt and make sure\n",
        "# plots appear in the notebook using '%matplotlib inline'\n",
        "import matplotlib.pyplot as plt\n",
        "%matplotlib inline"
      ]
    },
    {
      "cell_type": "code",
      "execution_count": null,
      "metadata": {
        "id": "UEEkqcvrkHZI"
      },
      "outputs": [],
      "source": [
        "# Create a simple plot using plt.plot()\n",
        "plt.plot([1,2,3,4,5])\n"
      ]
    },
    {
      "cell_type": "code",
      "execution_count": null,
      "metadata": {
        "id": "L-es6pDPkHZJ"
      },
      "outputs": [],
      "source": [
        "# Plot a single Python list\n",
        "plt.show()"
      ]
    },
    {
      "cell_type": "code",
      "execution_count": null,
      "metadata": {
        "id": "8fTfVBcbkHZJ"
      },
      "outputs": [],
      "source": [
        "# Create two lists, one called X, one called y, each with 5 numbers in them\n",
        "X = [1,2,3,4,5]\n",
        "y = [6,7,8,9,10]"
      ]
    },
    {
      "cell_type": "code",
      "execution_count": null,
      "metadata": {
        "id": "bYrSZ4-JkHZJ"
      },
      "outputs": [],
      "source": [
        "# Plot X & y (the lists you've created)\n",
        "plt.plot(X,y)\n",
        "plt.show()"
      ]
    },
    {
      "cell_type": "markdown",
      "metadata": {
        "id": "AleUTrxKkHZJ"
      },
      "source": [
        "There's another way to create plots with Matplotlib, it's known as the object-orientated (OO) method. Let's try it."
      ]
    },
    {
      "cell_type": "code",
      "execution_count": null,
      "metadata": {
        "id": "zc8Ztf95kHZJ"
      },
      "outputs": [],
      "source": [
        "# Create a plot using plt.subplots()\n",
        "fig, ax = plt.subplots()"
      ]
    },
    {
      "cell_type": "code",
      "execution_count": null,
      "metadata": {
        "id": "3xxwv2DPkHZK"
      },
      "outputs": [],
      "source": [
        "# Create a plot using plt.subplots() and then add X & y on the axes\n",
        "fig, ax = plt.subplots()\n",
        "ax.plot(X, y)\n",
        "plt.show()"
      ]
    },
    {
      "cell_type": "code",
      "source": [],
      "metadata": {
        "id": "B4_ICepVGWjW"
      },
      "execution_count": null,
      "outputs": []
    },
    {
      "cell_type": "markdown",
      "metadata": {
        "id": "TL15_g6KkHZK"
      },
      "source": [
        "Now let's try a small matplotlib workflow."
      ]
    },
    {
      "cell_type": "code",
      "execution_count": null,
      "metadata": {
        "id": "9MFf_7ovkHZK"
      },
      "outputs": [],
      "source": [
        "# Import and get matplotlib ready\n",
        "import matplotlib.pyplot as plt\n",
        "\n",
        "# Prepare data (create two lists of 5 numbers, X & y)\n",
        "X = [1,2,3,4,5]\n",
        "y = [10,20,30,40,50]\n",
        "\n",
        "# Setup figure and axes using plt.subplots()\n",
        "fig, ax = plt.subplots()\n",
        "\n",
        "# Add data (X, y) to axes\n",
        "ax.plot(X, y)\n",
        "\n",
        "# Customize plot by adding a title, xlabel and ylabel\n",
        "ax.set(title=\"Simple Plot\", xlabel=\"X\", ylabel=\"y\")\n",
        "\n",
        "# Save the plot to file using fig.savefig()\n",
        "fig.savefig(\"SmallWorkflow.png\")\n",
        "plt.show()"
      ]
    },
    {
      "cell_type": "markdown",
      "metadata": {
        "id": "ihPr6fRmkHZK"
      },
      "source": [
        "Okay, this is a simple line plot, how about something a little different?\n",
        "\n",
        "To help us, we'll import NumPy."
      ]
    },
    {
      "cell_type": "code",
      "execution_count": null,
      "metadata": {
        "id": "jDU4jvu6kHZK"
      },
      "outputs": [],
      "source": [
        "# Import NumPy as np\n",
        "import numpy as np"
      ]
    },
    {
      "cell_type": "code",
      "execution_count": null,
      "metadata": {
        "id": "uruxn9NTkHZK"
      },
      "outputs": [],
      "source": [
        "# Create an array of 100 evenly spaced numbers between 0 and 100 using NumPy and save it to variable X\n",
        "X = np.linspace(0, 100, 100)"
      ]
    },
    {
      "cell_type": "code",
      "execution_count": null,
      "metadata": {
        "id": "8q9EJ_ojkHZK"
      },
      "outputs": [],
      "source": [
        "# Create a plot using plt.subplots() and plot X versus X^2 (X squared)\n",
        "fig, ax = plt.subplots()\n",
        "ax.plot(X, X**2)\n",
        "plt.show()"
      ]
    },
    {
      "cell_type": "markdown",
      "metadata": {
        "id": "vMgzmZB_kHZK"
      },
      "source": [
        "We'll start with scatter plots."
      ]
    },
    {
      "cell_type": "code",
      "execution_count": null,
      "metadata": {
        "id": "Cv9QWD6zkHZK"
      },
      "outputs": [],
      "source": [
        "# Create a scatter plot of X versus the exponential of X (np.exp(X))\n",
        "plt.scatter(X, np.exp(X))\n",
        "plt.show()"
      ]
    },
    {
      "cell_type": "code",
      "execution_count": null,
      "metadata": {
        "id": "eD85KFKEkHZK"
      },
      "outputs": [],
      "source": [
        "# Create a scatter plot of X versus np.sin(X)\n",
        "plt.scatter(X, np.sin(X))\n",
        "plt.show()"
      ]
    },
    {
      "cell_type": "markdown",
      "metadata": {
        "id": "gTRhXY3PkHZK"
      },
      "source": [
        "How about we try another type of plot? This time let's look at a bar plot. First we'll make some data."
      ]
    },
    {
      "cell_type": "code",
      "execution_count": null,
      "metadata": {
        "id": "7JIRZzSMkHZL"
      },
      "outputs": [],
      "source": [
        "# Create a Python dictionary of 3 of your favourite foods with\n",
        "# The keys of the dictionary should be the food name and the values their price\n"
      ]
    },
    {
      "cell_type": "code",
      "execution_count": null,
      "metadata": {
        "id": "Qqt9oWPUkHZL"
      },
      "outputs": [],
      "source": [
        "# Create a bar graph where the x-axis is the keys of the dictionary\n",
        "# and the y-axis is the values of the dictionary\n",
        "\n",
        "\n",
        "# Add a title, xlabel and ylabel to the plot\n"
      ]
    },
    {
      "cell_type": "code",
      "execution_count": null,
      "metadata": {
        "id": "_Et8oKRJkHZL"
      },
      "outputs": [],
      "source": [
        "# Make the same plot as above, except this time make the bars go horizontal\n"
      ]
    },
    {
      "cell_type": "markdown",
      "metadata": {
        "id": "sJRjOsbdkHZL"
      },
      "source": [
        "All this food plotting is making me hungry. But we've got a couple of plots to go.\n",
        "\n",
        "Let's see a histogram."
      ]
    },
    {
      "cell_type": "code",
      "execution_count": null,
      "metadata": {
        "id": "l4SgvF-mkHZL"
      },
      "outputs": [],
      "source": [
        "# Create a random NumPy array of 1000 normally distributed numbers using NumPy and save it to X\n",
        "\n",
        "\n",
        "# Create a histogram plot of X\n"
      ]
    },
    {
      "cell_type": "code",
      "execution_count": null,
      "metadata": {
        "id": "VPObMptskHZL"
      },
      "outputs": [],
      "source": [
        "# Create a NumPy array of 1000 random numbers and save it to X\n",
        "\n",
        "\n",
        "# Create a histogram plot of X\n"
      ]
    },
    {
      "cell_type": "markdown",
      "metadata": {
        "id": "NcENIgmqkHZL"
      },
      "source": [
        "Notice how the distributions (spread of data) are different. Why do they differ?\n",
        "\n",
        "\n",
        "Now let's try make some subplots. A subplot is another name for a figure with multiple plots on it."
      ]
    },
    {
      "cell_type": "code",
      "execution_count": null,
      "metadata": {
        "id": "D2NzhlCvkHZL"
      },
      "outputs": [],
      "source": [
        "# Create an empty subplot with 2 rows and 2 columns (4 subplots total)\n"
      ]
    },
    {
      "cell_type": "markdown",
      "metadata": {
        "id": "n4bd4SgBkHZL"
      },
      "source": [
        "Notice how the subplot has multiple figures. Now let's add data to each axes."
      ]
    },
    {
      "cell_type": "code",
      "execution_count": null,
      "metadata": {
        "id": "V6e0L0nZkHZL"
      },
      "outputs": [],
      "source": [
        "# Create the same plot as above with 2 rows and 2 columns and figsize of (10, 5)\n",
        "\n",
        "\n",
        "# Plot X versus X/2 on the top left axes\n",
        "\n",
        "\n",
        "# Plot a scatter plot of 10 random numbers on each axis on the top right subplot\n",
        "\n",
        "\n",
        "# Plot a bar graph of the favourite food keys and values on the bottom left subplot\n",
        "\n",
        "\n",
        "# Plot a histogram of 1000 random normally distributed numbers on the bottom right subplot\n"
      ]
    },
    {
      "cell_type": "markdown",
      "metadata": {
        "id": "aGdVrPvFkHZL"
      },
      "source": [
        "Now we've seen how to plot with Matplotlib and data directly.\n",
        "\n",
        "First we'll need to import pandas and create a DataFrame work with."
      ]
    },
    {
      "cell_type": "code",
      "execution_count": null,
      "metadata": {
        "id": "6O9NY0J7kHZL"
      },
      "outputs": [],
      "source": [
        "# Import pandas as pd\n"
      ]
    },
    {
      "cell_type": "code",
      "execution_count": null,
      "metadata": {
        "id": "qvfsLKLpkHZL"
      },
      "outputs": [],
      "source": [
        "# Import the '../data/car-sales.csv' into a DataFame called car_sales and view\n"
      ]
    },
    {
      "cell_type": "code",
      "execution_count": null,
      "metadata": {
        "id": "4HOiLT0wkHZL"
      },
      "outputs": [],
      "source": [
        "# Try to plot the 'Price' column using the plot() function\n"
      ]
    },
    {
      "cell_type": "markdown",
      "metadata": {
        "id": "ZqNYHSbUkHZL"
      },
      "source": [
        "Why doesn't it work?\n",
        "\n",
        "Hint: It's not numeric data.\n",
        "\n",
        "In the process of turning it to numeric data, let's create another column which adds the total amount of sales and another one which shows what date the car was sold.\n",
        "\n",
        "Hint: To add a column up cumulatively, look up the cumsum() function. And to create a column of dates, look up the date_range() function."
      ]
    },
    {
      "cell_type": "code",
      "execution_count": null,
      "metadata": {
        "id": "NwrFYbS7kHZL"
      },
      "outputs": [],
      "source": [
        "# Remove the symbols, the final two numbers from the 'Price' column and convert it to numbers\n"
      ]
    },
    {
      "cell_type": "code",
      "execution_count": null,
      "metadata": {
        "id": "bqnrUDpHkHZL"
      },
      "outputs": [],
      "source": [
        "# Add a column called 'Total Sales' to car_sales which cumulatively adds the 'Price' column\n",
        "\n",
        "\n",
        "# Add a column called 'Sale Date' which lists a series of successive dates starting from today (your today)\n",
        "\n",
        "# View the car_sales DataFrame\n"
      ]
    },
    {
      "cell_type": "markdown",
      "metadata": {
        "id": "d9VqU3QskHZL"
      },
      "source": [
        "Now we've got a numeric column (`Total Sales`) and a dates column (`Sale Date`), let's visualize them."
      ]
    },
    {
      "cell_type": "code",
      "execution_count": null,
      "metadata": {
        "id": "jXz1zyijkHZL"
      },
      "outputs": [],
      "source": [
        "# Use the plot() function to plot the 'Sale Date' column versus the 'Total Sales' column\n"
      ]
    },
    {
      "cell_type": "code",
      "execution_count": null,
      "metadata": {
        "id": "FKUNtdZ_kHZL"
      },
      "outputs": [],
      "source": [
        "# Convert the 'Price' column to the integers\n",
        "\n",
        "\n",
        "# Create a scatter plot of the 'Odometer (KM)' and 'Price' column using the plot() function\n"
      ]
    },
    {
      "cell_type": "code",
      "execution_count": null,
      "metadata": {
        "id": "ccA1XRdtkHZO"
      },
      "outputs": [],
      "source": [
        "# Create a NumPy array of random numbers of size (10, 4) and save it to X\n",
        "\n",
        "\n",
        "# Turn the NumPy array X into a DataFrame with columns called ['a', 'b', 'c', 'd']\n",
        "\n",
        "\n",
        "# Create a bar graph of the DataFrame\n"
      ]
    },
    {
      "cell_type": "code",
      "execution_count": null,
      "metadata": {
        "id": "76NKV_vAkHZO"
      },
      "outputs": [],
      "source": [
        "# Create a bar graph of the 'Make' and 'Odometer (KM)' columns in the car_sales DataFrame\n"
      ]
    },
    {
      "cell_type": "code",
      "execution_count": null,
      "metadata": {
        "id": "4o3_5ObvkHZP"
      },
      "outputs": [],
      "source": [
        "# Create a histogram of the 'Odometer (KM)' column\n"
      ]
    },
    {
      "cell_type": "code",
      "execution_count": null,
      "metadata": {
        "id": "0lZT4BmskHZP"
      },
      "outputs": [],
      "source": [
        "# Create a histogram of the 'Price' column with 20 bins\n"
      ]
    },
    {
      "cell_type": "markdown",
      "metadata": {
        "id": "rdgB-iKfkHZP"
      },
      "source": [
        "Now we've seen a few examples of plotting directly from DataFrames using the `car_sales` dataset.\n",
        "\n",
        "Let's try using a different dataset."
      ]
    },
    {
      "cell_type": "code",
      "execution_count": null,
      "metadata": {
        "id": "jyCskBvxkHZP"
      },
      "outputs": [],
      "source": [
        "# Import \"../data/heart-disease.csv\" and save it to the variable \"heart_disease\"\n"
      ]
    },
    {
      "cell_type": "code",
      "execution_count": null,
      "metadata": {
        "id": "Q3lh9ptHkHZP"
      },
      "outputs": [],
      "source": [
        "# View the first 10 rows of the heart_disease DataFrame\n"
      ]
    },
    {
      "cell_type": "code",
      "execution_count": null,
      "metadata": {
        "id": "qrjrkWTDkHZP"
      },
      "outputs": [],
      "source": [
        "# Create a histogram of the \"age\" column with 50 bins\n"
      ]
    },
    {
      "cell_type": "code",
      "execution_count": null,
      "metadata": {
        "id": "zgP2Wk1CkHZP"
      },
      "outputs": [],
      "source": [
        "# Call plot.hist() on the heart_disease DataFrame and toggle the\n",
        "# \"subplots\" parameter to True\n"
      ]
    },
    {
      "cell_type": "markdown",
      "metadata": {
        "id": "5ktKRVGukHZP"
      },
      "source": [
        "That plot looks pretty squished. Let's change the figsize."
      ]
    },
    {
      "cell_type": "code",
      "execution_count": null,
      "metadata": {
        "id": "9Y7iTYsjkHZP"
      },
      "outputs": [],
      "source": [
        "# Call the same line of code from above except change the \"figsize\" parameter\n",
        "# to be (10, 30)\n"
      ]
    },
    {
      "cell_type": "markdown",
      "metadata": {
        "id": "05rhJP4nkHZP"
      },
      "source": [
        "Now let's try comparing two variables versus the target variable.\n",
        "\n",
        "More specifially we'll see how age and cholesterol combined effect the target in **patients over 50 years old**.\n",
        "\n",
        "For this next challenge, we're going to be replicating the plot1:\n"
      ]
    },
    {
      "cell_type": "code",
      "execution_count": null,
      "metadata": {
        "id": "xn7AcEQJkHZP"
      },
      "outputs": [],
      "source": [
        "# Replicate the above plot in whichever way you see fit\n",
        "\n",
        "# Note: The method below is only one way of doing it, yours might be\n",
        "# slightly different\n",
        "\n",
        "# Create DataFrame with patients over 50 years old\n",
        "\n",
        "\n",
        "# Create the plot\n",
        "\n",
        "\n",
        "# Plot the data\n",
        "\n",
        "\n",
        "# Customize the plot\n",
        "\n",
        "\n",
        "# Add a meanline\n"
      ]
    },
    {
      "cell_type": "markdown",
      "metadata": {
        "id": "a6gQEGtokHZP"
      },
      "source": [
        "Now you've created a plot of two different variables, let's change the style."
      ]
    },
    {
      "cell_type": "code",
      "execution_count": null,
      "metadata": {
        "id": "5oivvka-kHZP"
      },
      "outputs": [],
      "source": [
        "# Check what styles are available under plt\n"
      ]
    },
    {
      "cell_type": "code",
      "execution_count": null,
      "metadata": {
        "id": "KXgJIyxIkHZP"
      },
      "outputs": [],
      "source": [
        "# Change the style to use \"seaborn-whitegrid\"\n"
      ]
    },
    {
      "cell_type": "markdown",
      "metadata": {
        "id": "Z3o0gULEkHZP"
      },
      "source": [
        "Now the style has been changed, we'll replot the same figure from above and see what it looks like.\n",
        "\n",
        "If you've changed the style correctly, it should look like plot2\n"
      ]
    },
    {
      "cell_type": "code",
      "execution_count": null,
      "metadata": {
        "id": "TKxFLbCKkHZP"
      },
      "outputs": [],
      "source": [
        "# Reproduce the same figure as above with the \"seaborn-whitegrid\" style\n",
        "\n",
        "# Create the plot\n",
        "\n",
        "\n",
        "# Plot the data\n",
        "\n",
        "\n",
        "# Customize the plot\n",
        "\n",
        "\n",
        "# Add a meanline\n"
      ]
    },
    {
      "cell_type": "markdown",
      "metadata": {
        "id": "5GyZla3SkHZP"
      },
      "source": [
        "Wonderful, you've changed the style of the plots and the figure is looking different but the dots aren't a very good colour.\n",
        "\n",
        "Let's change the `cmap` parameter of `scatter()` as well as the `color` parameter of `axhline()` to fix it.\n",
        "\n",
        "Completing this step correctly should result in a figure which looks like plot3"
      ]
    },
    {
      "cell_type": "code",
      "execution_count": null,
      "metadata": {
        "id": "YBRJ4KZCkHZP"
      },
      "outputs": [],
      "source": [
        "# Replot the same figure as above except change the \"cmap\" parameter\n",
        "# of scatter() to \"winter\"\n",
        "# Also change the \"color\" parameter of axhline() to \"red\"\n",
        "\n",
        "# Create the plot\n",
        "\n",
        "\n",
        "# Plot the data\n",
        "\n",
        "\n",
        "# Customize the plot\n",
        "\n",
        "\n",
        "# Add a meanline\n"
      ]
    },
    {
      "cell_type": "markdown",
      "metadata": {
        "id": "h0S88tAlkHZQ"
      },
      "source": [
        "Beautiful! Now our figure has an upgraded color scheme let's save it to file."
      ]
    },
    {
      "cell_type": "code",
      "execution_count": null,
      "metadata": {
        "id": "eLIRN1oikHZQ"
      },
      "outputs": [],
      "source": [
        "# Save the current figure using savefig(), the file name can be anything you want\n"
      ]
    },
    {
      "cell_type": "code",
      "execution_count": null,
      "metadata": {
        "id": "gD1d0LqqkHZQ"
      },
      "outputs": [],
      "source": [
        "# Reset the figure by calling plt.subplots()\n"
      ]
    }
  ],
  "metadata": {
    "kernelspec": {
      "display_name": "Python 3",
      "language": "python",
      "name": "python3"
    },
    "language_info": {
      "codemirror_mode": {
        "name": "ipython",
        "version": 3
      },
      "file_extension": ".py",
      "mimetype": "text/x-python",
      "name": "python",
      "nbconvert_exporter": "python",
      "pygments_lexer": "ipython3",
      "version": "3.6.9"
    },
    "colab": {
      "provenance": [],
      "include_colab_link": true
    }
  },
  "nbformat": 4,
  "nbformat_minor": 0
}